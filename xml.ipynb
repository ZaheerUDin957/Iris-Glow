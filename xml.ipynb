{
 "cells": [
  {
   "cell_type": "code",
   "execution_count": 9,
   "metadata": {},
   "outputs": [],
   "source": [
    "import xml.etree.ElementTree as ET\n",
    "\n",
    "def get_text_or_default(element, default=\"\"):\n",
    "    \"\"\" Helper function to get text from an XML element or return a default value if the element is None. \"\"\"\n",
    "    return element.text if element is not None else default\n",
    "\n",
    "def extract_cine_file_header(root):\n",
    "    return {\n",
    "        'Cine Type': get_text_or_default(root.find(\"./CineFileHeader/Type\")),\n",
    "        'Compression': get_text_or_default(root.find(\"./CineFileHeader/Compression\")),\n",
    "        'Version': get_text_or_default(root.find(\"./CineFileHeader/Version\")),\n",
    "        'Total Image Count': get_text_or_default(root.find(\"./CineFileHeader/TotalImageCount\")),\n",
    "        'Header Size': get_text_or_default(root.find(\"./CineFileHeader/Headersize\")),\n",
    "        'First Image No': get_text_or_default(root.find(\"./CineFileHeader/FirstImageNo\")),\n",
    "        'Image Size': get_text_or_default(root.find(\"./CineFileHeader/ImageSize\")),\n",
    "        'Bit Depth Real': get_text_or_default(root.find(\"./CineFileHeader/BitDepthReal\")),\n",
    "        'Bit Depth Saved': get_text_or_default(root.find(\"./CineFileHeader/BitDepthSaved\")),\n",
    "        'Frames Per Second': get_text_or_default(root.find(\"./CineFileHeader/FramesPerSecond\")),\n",
    "        'Creator': get_text_or_default(root.find(\"./CineFileHeader/Creator\")),\n",
    "        'Creation Date': get_text_or_default(root.find(\"./CineFileHeader/CreationDate\")),\n",
    "        'Modification Date': get_text_or_default(root.find(\"./CineFileHeader/ModificationDate\"))\n",
    "    }\n",
    "\n",
    "def extract_bitmap_info_header(root):\n",
    "    return {\n",
    "        'Bitmap Width': get_text_or_default(root.find(\"./BitmapInfoHeader/biWidth\")),\n",
    "        'Bitmap Height': get_text_or_default(root.find(\"./BitmapInfoHeader/biHeight\")),\n",
    "        'Bit Depth': get_text_or_default(root.find(\"./BitmapInfoHeader/biBitCount\")),\n",
    "        'Compression': get_text_or_default(root.find(\"./BitmapInfoHeader/biCompression\")),\n",
    "        'Size Image': get_text_or_default(root.find(\"./BitmapInfoHeader/biSizeImage\")),\n",
    "        'Color Planes': get_text_or_default(root.find(\"./BitmapInfoHeader/biPlanes\")),\n",
    "        'X Pixels per Meter': get_text_or_default(root.find(\"./BitmapInfoHeader/biXPelsPerMeter\")),\n",
    "        'Y Pixels per Meter': get_text_or_default(root.find(\"./BitmapInfoHeader/biYPelsPerMeter\")),\n",
    "        'Colors Used': get_text_or_default(root.find(\"./BitmapInfoHeader/biClrUsed\")),\n",
    "        'Important Colors': get_text_or_default(root.find(\"./BitmapInfoHeader/biClrImportant\"))\n",
    "    }\n",
    "\n",
    "def extract_camera_setup(root):\n",
    "    return {\n",
    "        'Frame Rate': get_text_or_default(root.find(\"./CameraSetup/FrameRate\")),\n",
    "        'Exposure': get_text_or_default(root.find(\"./CameraSetup/Exposure\")),\n",
    "        'EDR Shutter': get_text_or_default(root.find(\"./CameraSetup/EDRShutter\")),\n",
    "        'Trigger Time Sec': get_text_or_default(root.find(\"./CameraSetup/TriggerTimeSec\")),\n",
    "        'Gain': get_text_or_default(root.find(\"./CameraSetup/Gain\")),\n",
    "        'Gamma': get_text_or_default(root.find(\"./CameraSetup/Gamma\")),\n",
    "        'Offset': get_text_or_default(root.find(\"./CameraSetup/Offset\")),\n",
    "        'Saturation': get_text_or_default(root.find(\"./CameraSetup/Saturation\")),\n",
    "        'Temperature': get_text_or_default(root.find(\"./CameraSetup/Temperature\")),\n",
    "        'White Balance': get_text_or_default(root.find(\"./CameraSetup/WhiteBalance\"))\n",
    "    }\n",
    "\n",
    "def extract_additional_info(root):\n",
    "    return {\n",
    "        'Image Count': get_text_or_default(root.find(\"./ImageCount\")),\n",
    "        'Image Size In Bytes': get_text_or_default(root.find(\"./ImageSizeInBytes\")),\n",
    "        'File Size In Bytes': get_text_or_default(root.find(\"./FileSizeInBytes\")),\n",
    "        'Camera Type': get_text_or_default(root.find(\"./CameraType\")),\n",
    "        'Serial Number': get_text_or_default(root.find(\"./SerialNumber\")),\n",
    "        'User Name': get_text_or_default(root.find(\"./UserName\")),\n",
    "        'Description': get_text_or_default(root.find(\"./Description\")),\n",
    "        'Location': get_text_or_default(root.find(\"./Location\")),\n",
    "        'Project Name': get_text_or_default(root.find(\"./ProjectName\")),\n",
    "        'Software Version': get_text_or_default(root.find(\"./SoftwareVersion\"))\n",
    "    }\n",
    "\n"
   ]
  },
  {
   "cell_type": "code",
   "execution_count": 10,
   "metadata": {},
   "outputs": [],
   "source": [
    "def display_metadata(metadata, title):\n",
    "    print(f\"### {title}\")\n",
    "    for key, value in metadata.items():\n",
    "        print(f\"{key}: {value}\")\n",
    "    print(\"\\n\")\n",
    "\n",
    "# Parse the XML file\n",
    "xml_file = './iris/Infra000000.xml'\n",
    "tree = ET.parse(xml_file)\n",
    "root = tree.getroot()"
   ]
  },
  {
   "cell_type": "code",
   "execution_count": 11,
   "metadata": {},
   "outputs": [],
   "source": [
    "# Extract metadata\n",
    "cine_file_header = extract_cine_file_header(root)\n",
    "bitmap_info_header = extract_bitmap_info_header(root)\n",
    "camera_setup = extract_camera_setup(root)\n",
    "additional_info = extract_additional_info(root)\n",
    "\n"
   ]
  },
  {
   "cell_type": "code",
   "execution_count": 12,
   "metadata": {},
   "outputs": [
    {
     "name": "stdout",
     "output_type": "stream",
     "text": [
      "### Cine File Header Information\n",
      "Cine Type: CI\n",
      "Compression: 0\n",
      "Version: 1\n",
      "Total Image Count: 2020\n",
      "Header Size: \n",
      "First Image No: 0\n",
      "Image Size: \n",
      "Bit Depth Real: \n",
      "Bit Depth Saved: \n",
      "Frames Per Second: \n",
      "Creator: \n",
      "Creation Date: \n",
      "Modification Date: \n",
      "\n",
      "\n"
     ]
    }
   ],
   "source": [
    "# Display metadata separately\n",
    "display_metadata(cine_file_header, \"Cine File Header Information\")\n"
   ]
  },
  {
   "cell_type": "code",
   "execution_count": 13,
   "metadata": {},
   "outputs": [
    {
     "name": "stdout",
     "output_type": "stream",
     "text": [
      "### Bitmap Info Header Information\n",
      "Bitmap Width: 1280\n",
      "Bitmap Height: 800\n",
      "Bit Depth: 8\n",
      "Compression: 0\n",
      "Size Image: 1024000\n",
      "Color Planes: 1\n",
      "X Pixels per Meter: 50000\n",
      "Y Pixels per Meter: 50000\n",
      "Colors Used: 0\n",
      "Important Colors: 0\n",
      "\n",
      "\n"
     ]
    }
   ],
   "source": [
    "display_metadata(bitmap_info_header, \"Bitmap Info Header Information\")\n"
   ]
  },
  {
   "cell_type": "code",
   "execution_count": 14,
   "metadata": {},
   "outputs": [
    {
     "name": "stdout",
     "output_type": "stream",
     "text": [
      "### Camera Setup Information\n",
      "Frame Rate: 700\n",
      "Exposure: \n",
      "EDR Shutter: \n",
      "Trigger Time Sec: \n",
      "Gain: \n",
      "Gamma: 0\n",
      "Offset: \n",
      "Saturation: 0\n",
      "Temperature: \n",
      "White Balance: \n",
      "\n",
      "\n"
     ]
    }
   ],
   "source": [
    "display_metadata(camera_setup, \"Camera Setup Information\")\n"
   ]
  },
  {
   "cell_type": "code",
   "execution_count": 15,
   "metadata": {},
   "outputs": [
    {
     "name": "stdout",
     "output_type": "stream",
     "text": [
      "### Additional Information\n",
      "Image Count: \n",
      "Image Size In Bytes: \n",
      "File Size In Bytes: \n",
      "Camera Type: \n",
      "Serial Number: \n",
      "User Name: \n",
      "Description: \n",
      "Location: \n",
      "Project Name: \n",
      "Software Version: \n",
      "\n",
      "\n"
     ]
    }
   ],
   "source": [
    "display_metadata(additional_info, \"Additional Information\")"
   ]
  },
  {
   "cell_type": "code",
   "execution_count": 16,
   "metadata": {},
   "outputs": [
    {
     "name": "stdout",
     "output_type": "stream",
     "text": [
      "### Cine File Header Information\n",
      "Cine Type: CI\n",
      "Compression: 0\n",
      "Version: 1\n",
      "Total Image Count: 2020\n",
      "First Image No: 0\n",
      "\n",
      "\n",
      "### Bitmap Info Header Information\n",
      "Bitmap Width: 1280\n",
      "Bitmap Height: 800\n",
      "Bit Depth: 8\n",
      "Compression: 0\n",
      "Size Image: 1024000\n",
      "Color Planes: 1\n",
      "X Pixels per Meter: 50000\n",
      "Y Pixels per Meter: 50000\n",
      "\n",
      "\n",
      "### Camera Setup Information\n",
      "Frame Rate: 700\n",
      "Gamma: 0\n",
      "Saturation: 0\n",
      "\n",
      "\n"
     ]
    }
   ],
   "source": [
    "import xml.etree.ElementTree as ET\n",
    "\n",
    "def process_and_display_metadata(xml_file):\n",
    "    def get_text_or_default(element, default=\"\"):\n",
    "        \"\"\" Helper function to get text from an XML element or return a default value if the element is None. \"\"\"\n",
    "        return element.text if element is not None else default\n",
    "\n",
    "    def extract_metadata(root):\n",
    "        return {\n",
    "            'Cine File Header Information': {\n",
    "                'Cine Type': get_text_or_default(root.find(\"./CineFileHeader/Type\")),\n",
    "                'Compression': get_text_or_default(root.find(\"./CineFileHeader/Compression\")),\n",
    "                'Version': get_text_or_default(root.find(\"./CineFileHeader/Version\")),\n",
    "                'Total Image Count': get_text_or_default(root.find(\"./CineFileHeader/TotalImageCount\")),\n",
    "                'First Image No': get_text_or_default(root.find(\"./CineFileHeader/FirstImageNo\")),\n",
    "            },\n",
    "            'Bitmap Info Header Information': {\n",
    "                'Bitmap Width': get_text_or_default(root.find(\"./BitmapInfoHeader/biWidth\")),\n",
    "                'Bitmap Height': get_text_or_default(root.find(\"./BitmapInfoHeader/biHeight\")),\n",
    "                'Bit Depth': get_text_or_default(root.find(\"./BitmapInfoHeader/biBitCount\")),\n",
    "                'Compression': get_text_or_default(root.find(\"./BitmapInfoHeader/biCompression\")),\n",
    "                'Size Image': get_text_or_default(root.find(\"./BitmapInfoHeader/biSizeImage\")),\n",
    "                'Color Planes': get_text_or_default(root.find(\"./BitmapInfoHeader/biPlanes\")),\n",
    "                'X Pixels per Meter': get_text_or_default(root.find(\"./BitmapInfoHeader/biXPelsPerMeter\")),\n",
    "                'Y Pixels per Meter': get_text_or_default(root.find(\"./BitmapInfoHeader/biYPelsPerMeter\")),\n",
    "            },\n",
    "            'Camera Setup Information': {\n",
    "                'Frame Rate': get_text_or_default(root.find(\"./CameraSetup/FrameRate\")),\n",
    "                'Gamma': get_text_or_default(root.find(\"./CameraSetup/Gamma\")),\n",
    "                'Saturation': get_text_or_default(root.find(\"./CameraSetup/Saturation\")),\n",
    "            }\n",
    "        }\n",
    "\n",
    "    def display_metadata(metadata):\n",
    "        for title, info in metadata.items():\n",
    "            print(f\"### {title}\")\n",
    "            for key, value in info.items():\n",
    "                print(f\"{key}: {value}\")\n",
    "            print(\"\\n\")\n",
    "\n",
    "    # Parse the XML file\n",
    "    tree = ET.parse(xml_file)\n",
    "    root = tree.getroot()\n",
    "\n",
    "    # Extract and display metadata\n",
    "    metadata = extract_metadata(root)\n",
    "    display_metadata(metadata)\n",
    "\n",
    "# Call the function with the XML file\n",
    "process_and_display_metadata('./iris/Infra000000.xml')"
   ]
  },
  {
   "cell_type": "code",
   "execution_count": null,
   "metadata": {},
   "outputs": [],
   "source": []
  }
 ],
 "metadata": {
  "kernelspec": {
   "display_name": "Python 3",
   "language": "python",
   "name": "python3"
  },
  "language_info": {
   "codemirror_mode": {
    "name": "ipython",
    "version": 3
   },
   "file_extension": ".py",
   "mimetype": "text/x-python",
   "name": "python",
   "nbconvert_exporter": "python",
   "pygments_lexer": "ipython3",
   "version": "3.10.14"
  }
 },
 "nbformat": 4,
 "nbformat_minor": 2
}
